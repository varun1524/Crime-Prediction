{
 "cells": [
  {
   "cell_type": "code",
   "execution_count": 219,
   "metadata": {},
   "outputs": [],
   "source": [
    "# pip install sodapy"
   ]
  },
  {
   "cell_type": "code",
   "execution_count": 1,
   "metadata": {},
   "outputs": [],
   "source": [
    "import pandas as pd\n",
    "import numpy as np\n",
    "from sodapy import Socrata\n",
    "import collections;\n",
    "import re;\n",
    "from time import time\n",
    "from collections import defaultdict"
   ]
  },
  {
   "cell_type": "markdown",
   "metadata": {},
   "source": [
    "# Read Data Using API"
   ]
  },
  {
   "cell_type": "code",
   "execution_count": 2,
   "metadata": {},
   "outputs": [],
   "source": [
    "# client = Socrata(\"data.sfgov.org\", None)\n",
    "# results = client.get(\"cuks-n6tp\", limit = 2191368)\n",
    "# data = client.get(\"cuks-n6tp\", limit = 3000000)\n",
    "# data_df = pd.DataFrame.from_records(data)"
   ]
  },
  {
   "cell_type": "markdown",
   "metadata": {},
   "source": [
    "# Read data from CSV"
   ]
  },
  {
   "cell_type": "code",
   "execution_count": 3,
   "metadata": {},
   "outputs": [],
   "source": [
    "import pandas as pd\n",
    "\n",
    "data_df = pd.read_csv(\"./data/crimedata.csv\");"
   ]
  },
  {
   "cell_type": "code",
   "execution_count": 4,
   "metadata": {},
   "outputs": [],
   "source": [
    "# print(type(input))\n",
    "data_df = data_df.drop(data_df.columns[0], axis=1)"
   ]
  },
  {
   "cell_type": "code",
   "execution_count": 5,
   "metadata": {
    "scrolled": true
   },
   "outputs": [
    {
     "name": "stdout",
     "output_type": "stream",
     "text": [
      "<class 'pandas.core.frame.DataFrame'>\n",
      "(2195020, 13)\n"
     ]
    }
   ],
   "source": [
    "print(type(data_df))\n",
    "print(data_df.shape)"
   ]
  },
  {
   "cell_type": "code",
   "execution_count": 6,
   "metadata": {},
   "outputs": [
    {
     "name": "stdout",
     "output_type": "stream",
     "text": [
      "                   address        category                     date dayofweek  \\\n",
      "0    KISSLING ST / 11TH ST  SUSPICIOUS OCC  2015-06-06T00:00:00.000  Saturday   \n",
      "1  JACKSON ST / WEBSTER ST    NON-CRIMINAL  2015-09-10T00:00:00.000  Thursday   \n",
      "\n",
      "                       descript  incidntnum  \\\n",
      "0       INVESTIGATIVE DETENTION   150494743   \n",
      "1  AIDED CASE, MENTAL DISTURBED   150795745   \n",
      "\n",
      "                                            location pddistrict  \\\n",
      "0  {u'type': u'Point', u'coordinates': [-122.4150...   SOUTHERN   \n",
      "1  {u'type': u'Point', u'coordinates': [-122.4329...   NORTHERN   \n",
      "\n",
      "             pdid resolution   time           x          y  \n",
      "0  15049474364085       NONE  15:14 -122.415003  37.772650  \n",
      "1  15079574564020       NONE  16:40 -122.432920  37.792679  \n"
     ]
    }
   ],
   "source": [
    "print(data_df[:2])"
   ]
  },
  {
   "cell_type": "code",
   "execution_count": 7,
   "metadata": {},
   "outputs": [],
   "source": [
    "# data_df.sort_values(by=['date', 'time'])\n",
    "# data_df.to_csv('./data/crimedata.csv', sep= \",\", encoding=\"utf8\")"
   ]
  },
  {
   "cell_type": "code",
   "execution_count": 8,
   "metadata": {
    "scrolled": true
   },
   "outputs": [
    {
     "name": "stdout",
     "output_type": "stream",
     "text": [
      "(2195020, 13)\n"
     ]
    }
   ],
   "source": [
    "print(data_df.shape)"
   ]
  },
  {
   "cell_type": "code",
   "execution_count": 9,
   "metadata": {},
   "outputs": [
    {
     "name": "stdout",
     "output_type": "stream",
     "text": [
      "address\n",
      "category\n",
      "date\n",
      "dayofweek\n",
      "descript\n",
      "incidntnum\n",
      "location\n",
      "pddistrict\n",
      "pdid\n",
      "resolution\n",
      "time\n",
      "x\n",
      "y\n"
     ]
    }
   ],
   "source": [
    "for col in data_df.columns:\n",
    "    print(col)"
   ]
  },
  {
   "cell_type": "code",
   "execution_count": 10,
   "metadata": {},
   "outputs": [],
   "source": [
    "def convert_date_to_day(dt):\n",
    "    result = re.findall(r'\\d{4}-(\\d{2})-(\\d{2})T00:00:00.000',dt)\n",
    "    return result[0][1]\n",
    "   \n",
    "def convert_date_to_month(dt):\n",
    "    result = re.findall(r'\\d{4}-(\\d{2})-(\\d{2})T00:00:00.000',dt)\n",
    "    return result[0][0]\n",
    "\n",
    "def convert_time_to_hour(tm):\n",
    "    result = re.findall(r'(\\d{2}):\\d{2}',tm)\n",
    "    return result[0]\n",
    "\n",
    "# def convert_date_to_year(dt):\n",
    "#     result = re.findall(r'\\d{4}-(\\d{2})-(\\d{2})T00:00:00.000',dt)\n",
    "#     return result[0][0]"
   ]
  },
  {
   "cell_type": "code",
   "execution_count": 11,
   "metadata": {},
   "outputs": [
    {
     "name": "stdout",
     "output_type": "stream",
     "text": [
      "                 address        category                     date dayofweek  \\\n",
      "0  KISSLING ST / 11TH ST  SUSPICIOUS OCC  2015-06-06T00:00:00.000  Saturday   \n",
      "\n",
      "                  descript  incidntnum  \\\n",
      "0  INVESTIGATIVE DETENTION   150494743   \n",
      "\n",
      "                                            location pddistrict  \\\n",
      "0  {u'type': u'Point', u'coordinates': [-122.4150...   SOUTHERN   \n",
      "\n",
      "             pdid resolution   time           x         y  \n",
      "0  15049474364085       NONE  15:14 -122.415003  37.77265  \n"
     ]
    }
   ],
   "source": [
    "data_df = data_df.dropna(how='any',axis=0)\n",
    "print(data_df[:1])"
   ]
  },
  {
   "cell_type": "code",
   "execution_count": 12,
   "metadata": {},
   "outputs": [],
   "source": [
    "data_df['day'] = data_df.date.apply(lambda x: convert_date_to_day(x))\n",
    "data_df['month'] = data_df.date.apply(lambda x: convert_date_to_month(x))\n",
    "# data_df['year'] = data_df.date.apply(lambda x: convert_date_to_year(x))\n",
    "data_df['hour'] = data_df.time.apply(lambda x: convert_time_to_hour(x))\n",
    "data_df = data_df.sort_values(by=['date','time'])\n"
   ]
  },
  {
   "cell_type": "code",
   "execution_count": 166,
   "metadata": {},
   "outputs": [
    {
     "name": "stdout",
     "output_type": "stream",
     "text": [
      "address\n",
      "category\n",
      "dayofweek\n",
      "pddistrict\n",
      "x\n",
      "y\n",
      "day\n",
      "month\n",
      "hour\n"
     ]
    }
   ],
   "source": [
    "# df = data_df.drop(['incidntnum','pdid','resolution','x','y', 'date', 'time', 'descript'], axis =1)\n",
    "df = data_df.drop(['incidntnum','pdid','resolution','date', 'time', 'descript', 'location'], axis =1)\n",
    "# df = df.drop(df.columns[[0]], axis =1)\n",
    "\n",
    "for col in df.columns:\n",
    "    print(col)"
   ]
  },
  {
   "cell_type": "code",
   "execution_count": 167,
   "metadata": {},
   "outputs": [],
   "source": [
    "# df.sort_values(by=['date'])\n",
    "df['category'] = df.category.apply(lambda x: x.lower())\n",
    "df['dayofweek'] = df.dayofweek.apply(lambda x: x.lower())\n",
    "df['address'] = df.address.apply(lambda x: x.lower())\n",
    "df['pddistrict'] = df.pddistrict.apply(lambda x: x.lower())"
   ]
  },
  {
   "cell_type": "markdown",
   "metadata": {},
   "source": [
    "# Unique Crime Categories"
   ]
  },
  {
   "cell_type": "code",
   "execution_count": 16,
   "metadata": {},
   "outputs": [],
   "source": [
    "uniqe_crime = {}\n",
    "i = 0\n",
    "for index,row in df.iterrows():\n",
    "    if row['category'] not in uniqe_crime.keys():\n",
    "        uniqe_crime[row['category']] = i\n",
    "        i = i+1\n",
    "    "
   ]
  },
  {
   "cell_type": "code",
   "execution_count": 17,
   "metadata": {},
   "outputs": [
    {
     "name": "stdout",
     "output_type": "stream",
     "text": [
      "39\n",
      "{'weapon laws': 28, 'recovered vehicle': 37, 'secondary codes': 6, 'warrants': 15, 'prostitution': 10, 'drug/narcotic': 20, 'embezzlement': 9, 'trespass': 23, 'bribery': 32, 'driving under the influence': 22, 'non-criminal': 8, 'sex offenses, non forcible': 24, 'disorderly conduct': 18, 'other offenses': 5, 'runaway': 29, 'suicide': 33, 'liquor laws': 31, 'sex offenses, forcible': 7, 'vehicle theft': 17, 'vandalism': 13, 'gambling': 34, 'pornography/obscene mat': 36, 'kidnapping': 26, 'family offenses': 35, 'assault': 2, 'larceny/theft': 1, 'burglary': 4, 'missing person': 16, 'forgery/counterfeiting': 0, 'extortion': 14, 'fraud': 11, 'arson': 30, 'trea': 38, 'bad checks': 25, 'loitering': 12, 'stolen property': 27, 'robbery': 21, 'suspicious occ': 3, 'drunkenness': 19}\n"
     ]
    }
   ],
   "source": [
    "print(len(uniqe_crime))\n",
    "print(uniqe_crime)"
   ]
  },
  {
   "cell_type": "code",
   "execution_count": 168,
   "metadata": {},
   "outputs": [
    {
     "name": "stdout",
     "output_type": "stream",
     "text": [
      "8\n"
     ]
    },
    {
     "data": {
      "text/plain": [
       "31"
      ]
     },
     "execution_count": 168,
     "metadata": {},
     "output_type": "execute_result"
    }
   ],
   "source": [
    "# Define Index Crimes (More Serious)\n",
    "index_crimes = ['ROBBERY', 'BURGLARY', 'LARCENY/THEFT', 'ASSAULT', 'ARSON', 'SEX OFFENSES, FORCIBLE', 'SECONDARY CODES',  'RECOVERED VEHICLE']\n",
    "print(len(index_crimes))\n",
    "\n",
    "# Define Non-Index Crimes (Less Serious)\n",
    "non_index_crimes = ['OTHER OFFENSES', 'VEHICLE THEFT', 'NON-CRIMINAL', 'SUSPICIOUS OCC', 'FRAUD', 'FORGERY/COUNTERFEITING', 'WARRANTS', 'VANDALISM', 'MISSING PERSON', 'DISORDERLY CONDUCT', 'TRESPASS', 'WEAPON LAWS', 'DRUG/NARCOTIC', 'STOLEN PROPERTY', 'DRUNKENNESS', 'EMBEZZLEMENT', 'LOITERING', 'DRIVING UNDER THE INFLUENCE', 'PROSTITUTION', 'LIQUOR LAWS', 'EXTORTION', 'RUNAWAY', 'SUICIDE', 'BAD CHECKS', 'KIDNAPPING', 'FAMILY OFFENSES', 'BRIBERY', 'GAMBLING', 'SEX OFFENSES, NON FORCIBLE', 'PORNOGRAPHY/OBSCENE MAT', 'TREA']\n",
    "len(non_index_crimes)"
   ]
  },
  {
   "cell_type": "markdown",
   "metadata": {},
   "source": [
    "# Find Severity"
   ]
  },
  {
   "cell_type": "code",
   "execution_count": 23,
   "metadata": {},
   "outputs": [],
   "source": [
    "severity = []\n",
    "for index, row in df.iterrows():\n",
    "    if row['category'].upper() in index_crimes:\n",
    "        severity.append('INDEX')\n",
    "#         print(row['category'], \": Index Crime (More Serious)\")\n",
    "    else:\n",
    "        severity.append('NONINDEX')\n",
    "#         print(row['category'], \" : None Index Crime (More Serious)\")"
   ]
  },
  {
   "cell_type": "code",
   "execution_count": 24,
   "metadata": {},
   "outputs": [
    {
     "name": "stdout",
     "output_type": "stream",
     "text": [
      "2195019\n",
      "(2195019, 9)\n"
     ]
    }
   ],
   "source": [
    "print(len(severity))\n",
    "print(df.shape)"
   ]
  },
  {
   "cell_type": "code",
   "execution_count": 25,
   "metadata": {},
   "outputs": [],
   "source": [
    "df['severity'] = severity"
   ]
  },
  {
   "cell_type": "code",
   "execution_count": 26,
   "metadata": {},
   "outputs": [
    {
     "name": "stdout",
     "output_type": "stream",
     "text": [
      "1064904    forgery/counterfeiting\n",
      "1073303             larceny/theft\n",
      "1081823    forgery/counterfeiting\n",
      "1142078                   assault\n",
      "1175782            suspicious occ\n",
      "1182298                  burglary\n",
      "1194643                   assault\n",
      "1198961            suspicious occ\n",
      "1202350            other offenses\n",
      "1203962           secondary codes\n",
      "Name: category, dtype: object\n",
      "1064904    NONINDEX\n",
      "1073303       INDEX\n",
      "1081823    NONINDEX\n",
      "1142078       INDEX\n",
      "1175782    NONINDEX\n",
      "1182298       INDEX\n",
      "1194643       INDEX\n",
      "1198961    NONINDEX\n",
      "1202350    NONINDEX\n",
      "1203962       INDEX\n",
      "Name: severity, dtype: object\n"
     ]
    }
   ],
   "source": [
    "print(df['category'][:10])\n",
    "print(df['severity'][:10])"
   ]
  },
  {
   "cell_type": "code",
   "execution_count": 169,
   "metadata": {},
   "outputs": [
    {
     "name": "stdout",
     "output_type": "stream",
     "text": [
      "(2195019, 9)\n",
      "(2195019, 9)\n"
     ]
    }
   ],
   "source": [
    "print(df.shape)\n",
    "print(sev_df.shape)"
   ]
  },
  {
   "cell_type": "code",
   "execution_count": 170,
   "metadata": {},
   "outputs": [],
   "source": [
    "series = sev_df.groupby('pddistrict').apply(list)\n",
    "dictionary = {}\n"
   ]
  },
  {
   "cell_type": "code",
   "execution_count": 171,
   "metadata": {},
   "outputs": [
    {
     "name": "stdout",
     "output_type": "stream",
     "text": [
      "2\n",
      "2195019\n"
     ]
    }
   ],
   "source": [
    "city_target = sev_df.get('severity').tolist()\n",
    "unique_target=set(city_target)\n",
    "print(len(unique_target))\n",
    "print(len(city_target))"
   ]
  },
  {
   "cell_type": "code",
   "execution_count": 172,
   "metadata": {},
   "outputs": [],
   "source": [
    "from sklearn.preprocessing import OneHotEncoder\n",
    "from sklearn.preprocessing import LabelEncoder\n",
    "lnc = LabelEncoder()\n",
    "enc = OneHotEncoder()"
   ]
  },
  {
   "cell_type": "code",
   "execution_count": 174,
   "metadata": {},
   "outputs": [],
   "source": [
    "def perform_label_encoding(temp_df):\n",
    "    temp = lnc.fit_transform(temp_df.dayofweek.iloc[:].values)\n",
    "    temp_df['dayofweek'] = temp\n",
    "    temp = lnc.fit_transform(temp_df.address.iloc[:].values)\n",
    "    temp_df['address'] = temp\n",
    "    temp = lnc.fit_transform(temp_df.category.iloc[:].values)\n",
    "    temp_df['category'] = temp\n",
    "    return temp_df"
   ]
  },
  {
   "cell_type": "code",
   "execution_count": 177,
   "metadata": {},
   "outputs": [
    {
     "name": "stdout",
     "output_type": "stream",
     "text": [
      "<class 'pandas.core.frame.DataFrame'>\n",
      "(2195019, 9)\n",
      "         address  category  dayofweek pddistrict           x          y day  \\\n",
      "1064904     3923        12          6    bayview -122.409221  37.731393  01   \n",
      "1073303    12720        16          6   southern -122.403405  37.775421  01   \n",
      "1081823     7502        12          6    mission -122.414683  37.758077  01   \n",
      "1142078     1927         1          6    bayview -122.394538  37.734692  01   \n",
      "1175782    12670        32          6   richmond -122.492762  37.773097  01   \n",
      "\n",
      "        month hour  \n",
      "1064904    01   00  \n",
      "1073303    01   00  \n",
      "1081823    01   00  \n",
      "1142078    01   00  \n",
      "1175782    01   00  \n"
     ]
    }
   ],
   "source": [
    "df = perform_label_encoding(df)\n",
    "print(type(df))\n",
    "print(df.shape)\n",
    "print(df[:5])\n",
    "# perform_label_encoding(sev_df)"
   ]
  },
  {
   "cell_type": "code",
   "execution_count": 178,
   "metadata": {},
   "outputs": [
    {
     "name": "stdout",
     "output_type": "stream",
     "text": [
      "bayview\n",
      "central\n",
      "ingleside\n",
      "mission\n",
      "northern\n",
      "park\n",
      "richmond\n",
      "southern\n",
      "taraval\n",
      "tenderloin\n"
     ]
    }
   ],
   "source": [
    "for s in series.keys():\n",
    "    print(str(s))\n",
    "    mask = df['pddistrict'] == str(s)\n",
    "#     print(df[mask])\n",
    "    dictionary[str(s)] = df[mask]"
   ]
  },
  {
   "cell_type": "code",
   "execution_count": 179,
   "metadata": {},
   "outputs": [],
   "source": [
    "# for s in series.keys():\n",
    "#     print(str(s))\n",
    "#     mask = sev_df['pddistrict'] == str(s)\n",
    "# #     print(df[mask])\n",
    "#     dictionary[str(s)] = sev_df[mask]"
   ]
  },
  {
   "cell_type": "code",
   "execution_count": 180,
   "metadata": {},
   "outputs": [
    {
     "name": "stdout",
     "output_type": "stream",
     "text": [
      "<class 'pandas.core.frame.DataFrame'>\n",
      "['central', 'northern', 'ingleside', 'park', 'mission', 'tenderloin', 'richmond', 'taraval', 'bayview', 'southern']\n"
     ]
    }
   ],
   "source": [
    "print(type(dictionary['central']))\n",
    "print(dictionary.keys())"
   ]
  },
  {
   "cell_type": "code",
   "execution_count": 181,
   "metadata": {},
   "outputs": [],
   "source": [
    "# def fetchDistrictData(district):\n",
    "#     target = (dictionary.get(district))['severity']\n",
    "#     tempdf = (dictionary.get(district)).drop(['pddistrict', 'severity', 'category'], axis =1)\n",
    "#     return tempdf, target"
   ]
  },
  {
   "cell_type": "code",
   "execution_count": 184,
   "metadata": {},
   "outputs": [],
   "source": [
    "def fetchDistrictData(district):\n",
    "    target = (dictionary.get(district))['category']\n",
    "    tempdf = (dictionary.get(district)).drop(['pddistrict', 'category','severity'], axis =1)\n",
    "    return tempdf, target"
   ]
  },
  {
   "cell_type": "code",
   "execution_count": 185,
   "metadata": {},
   "outputs": [
    {
     "name": "stdout",
     "output_type": "stream",
     "text": [
      "219306\n",
      "(219306, 7)\n"
     ]
    }
   ],
   "source": [
    "district_bayview, district_bayview_target = fetchDistrictData('bayview')\n",
    "print(len(district_bayview_target))\n",
    "print(district_bayview.shape)"
   ]
  },
  {
   "cell_type": "code",
   "execution_count": 186,
   "metadata": {},
   "outputs": [
    {
     "name": "stdout",
     "output_type": "stream",
     "text": [
      "39\n"
     ]
    }
   ],
   "source": [
    "# print(district_bayview.shape)\n",
    "# print(district_bayview[:5])\n",
    "print(len(set(district_bayview_target)))"
   ]
  },
  {
   "cell_type": "code",
   "execution_count": 100,
   "metadata": {},
   "outputs": [],
   "source": [
    "from scipy.sparse import csr_matrix\n",
    "\n",
    "def dataframetoCSRmatrix(df):\n",
    "    nrows = len(df)\n",
    "    nc = len(df.columns)\n",
    "    idx = {}\n",
    "    tid = 0\n",
    "    nnz = nc * nrows\n",
    "    cols= df.columns\n",
    "    for col in cols:\n",
    "        df[col] = df[col].apply(str)\n",
    "        for name in df[col].unique():\n",
    "            idx[col+name] = tid\n",
    "            tid += 1\n",
    "   \n",
    "    ncols = len(idx)\n",
    "   \n",
    "    ind = np.zeros(nnz, dtype=np.int)\n",
    "    val = np.zeros(nnz, dtype=np.int)\n",
    "    ptr = np.zeros(nrows+1, dtype=np.int)\n",
    "   \n",
    "    i=0\n",
    "    n=0\n",
    "   \n",
    "    for index,row in df.iterrows():\n",
    "        for j,col in enumerate(cols):\n",
    "            ind[j+n] = idx[col+row[col]]\n",
    "            val[j+n] = 1\n",
    "        ptr[i+1] = ptr[i] + nc\n",
    "        n += nc\n",
    "        i += 1\n",
    "   \n",
    "    mat = csr_matrix((val,ind,ptr),  dtype=np.int)\n",
    "    mat.sort_indices()  \n",
    "   \n",
    "    return mat"
   ]
  },
  {
   "cell_type": "code",
   "execution_count": 101,
   "metadata": {},
   "outputs": [
    {
     "name": "stdout",
     "output_type": "stream",
     "text": [
      "('Shape of CSR Matrix -', (219306, 12473))\n"
     ]
    }
   ],
   "source": [
    "mat_bayview = dataframetoCSRmatrix(district_bayview)\n",
    "print(\"Shape of CSR Matrix -\", mat_bayview.shape)"
   ]
  },
  {
   "cell_type": "code",
   "execution_count": 102,
   "metadata": {},
   "outputs": [
    {
     "name": "stdout",
     "output_type": "stream",
     "text": [
      "<class 'scipy.sparse.csr.csr_matrix'>\n",
      "(219306, 12473)\n"
     ]
    }
   ],
   "source": [
    "print(type(mat_bayview))\n",
    "print(mat_bayview.shape)"
   ]
  },
  {
   "cell_type": "code",
   "execution_count": 187,
   "metadata": {
    "scrolled": true
   },
   "outputs": [],
   "source": [
    "from sklearn.model_selection import train_test_split\n"
   ]
  },
  {
   "cell_type": "code",
   "execution_count": 188,
   "metadata": {},
   "outputs": [],
   "source": [
    "def fetchTrainTestData(district_df, district_target):\n",
    "    X_train, X_test, y_train, y_test = train_test_split(district_df, district_target, test_size=0.10, random_state=42)\n",
    "    return X_train, X_test, y_train, y_test\n"
   ]
  },
  {
   "cell_type": "code",
   "execution_count": 189,
   "metadata": {},
   "outputs": [],
   "source": [
    "# X_train, X_test, y_train, y_test = fetchTrainTestData(mat_bayview, district_bayview_target)\n",
    "X_train, X_test, y_train, y_test = fetchTrainTestData(district_bayview, district_bayview_target)"
   ]
  },
  {
   "cell_type": "code",
   "execution_count": 190,
   "metadata": {},
   "outputs": [
    {
     "name": "stdout",
     "output_type": "stream",
     "text": [
      "(197375, 7)\n",
      "(21931, 7)\n",
      "(197375,)\n",
      "(21931,)\n",
      "<class 'pandas.core.frame.DataFrame'>\n",
      "<class 'pandas.core.frame.DataFrame'>\n",
      "<class 'pandas.core.series.Series'>\n",
      "<class 'pandas.core.series.Series'>\n"
     ]
    }
   ],
   "source": [
    "print(X_train.shape)\n",
    "print(X_test.shape)\n",
    "print(y_train.shape)\n",
    "print(y_test.shape)\n",
    "print(type(X_train))\n",
    "print(type(X_test))\n",
    "print(type(y_train))\n",
    "print(type(y_test))"
   ]
  },
  {
   "cell_type": "code",
   "execution_count": 191,
   "metadata": {},
   "outputs": [],
   "source": [
    "# X_train_list = X_train.values.tolist()\n",
    "# X_test_list = X_test.values.tolist()"
   ]
  },
  {
   "cell_type": "code",
   "execution_count": 193,
   "metadata": {},
   "outputs": [
    {
     "name": "stdout",
     "output_type": "stream",
     "text": [
      "         address  dayofweek           x          y day month hour\n",
      "1648680     1126          1 -122.379425  37.729499  14    04   19\n",
      "1120372    18728          4 -122.386421  37.729545  17    08   09\n",
      "451434     10404          4 -122.398512  37.767501  07    08   20\n",
      "484476      5042          4 -122.392563  37.736874  24    07   18\n",
      "2121678    12425          3 -122.373376  37.729769  15    08   09\n",
      "503544      3807          0 -122.394144  37.722519  21    11   13\n",
      "2101602    10032          4 -122.388004  37.755390  19    08   23\n",
      "792491      4458          0 -122.389391  37.734121  14    10   13\n",
      "547890     10932          4 -122.390136  37.736804  29    01   09\n",
      "2079206     4162          0 -122.394439  37.736444  21    05   21\n",
      "         address  dayofweek           x          y day month hour\n",
      "703830      7559          1 -122.404952  37.730738  01    02   13\n",
      "1521337    13248          1 -122.401962  37.757745  29    06   18\n",
      "404752     11232          4 -122.401059  37.769775  28    03   23\n",
      "155732     14037          2 -122.403539  37.748119  12    05   19\n",
      "232153     10119          3 -122.392625  37.729280  11    11   17\n",
      "2193076     5711          1 -122.404138  37.760833  29    11   03\n",
      "1229511    22719          6 -122.403595  37.727634  06    06   08\n",
      "1431763     3231          0 -122.393412  37.720236  26    09   12\n",
      "1284099    10462          1 -122.406080  37.720411  27    08   08\n",
      "676506     18329          6 -122.382281  37.733632  28    10   22\n"
     ]
    }
   ],
   "source": [
    "print(X_train[:10])\n",
    "print(X_test[:10])"
   ]
  },
  {
   "cell_type": "code",
   "execution_count": 194,
   "metadata": {},
   "outputs": [],
   "source": [
    "def classify(clf, X_train, Y_train, X_test):\n",
    "    print(\"Training: \")\n",
    "    print(clf)\n",
    "    t0 = time()\n",
    "    clf.fit(X_train, Y_train)\n",
    "    train_time = time() - t0\n",
    "    print(\"train time: %0.3fs\" % train_time)\n",
    "    t0 = time()\n",
    "    pred = clf.predict(X_test)\n",
    "    test_time = time() - t0\n",
    "    print(\"test time:  %0.3fs\" % test_time)\n",
    "    print(type(pred))\n",
    "    return pred"
   ]
  },
  {
   "cell_type": "code",
   "execution_count": 195,
   "metadata": {},
   "outputs": [],
   "source": [
    "# from sklearn.preprocessing import StandardScaler\n",
    "# X_train_std = StandardScaler().fit_transform(X_train.values.tolist())\n",
    "# X_test_std = StandardScaler().fit_transform(X_train.values.tolist())"
   ]
  },
  {
   "cell_type": "code",
   "execution_count": 196,
   "metadata": {},
   "outputs": [],
   "source": [
    "from sklearn.ensemble import AdaBoostClassifier\n",
    "from sklearn.neighbors import KNeighborsClassifier\n",
    "from sklearn.naive_bayes import GaussianNB\n",
    "from sklearn import svm\n",
    "from sklearn import tree\n",
    "from sklearn.ensemble import RandomForestClassifier"
   ]
  },
  {
   "cell_type": "code",
   "execution_count": 201,
   "metadata": {},
   "outputs": [
    {
     "name": "stdout",
     "output_type": "stream",
     "text": [
      "Training: \n",
      "AdaBoostClassifier(algorithm='SAMME.R', base_estimator=None,\n",
      "          learning_rate=1.0, n_estimators=50, random_state=None)\n",
      "train time: 15.808s\n",
      "test time:  1.073s\n",
      "<type 'numpy.ndarray'>\n"
     ]
    }
   ],
   "source": [
    "# pred = classify(tree.DecisionTreeClassifier(), X_train, y_train, X_test)\n",
    "# pred = classify(RandomForestClassifier(), X_train, y_train, X_test)\n",
    "# pred = classify(GaussianNB(), X_train, y_train, X_test)\n",
    "# pred = classify(KNeighborsClassifier(), X_train, y_train, X_test)\n",
    "pred = classify(AdaBoostClassifier(), X_train, y_train, X_test)"
   ]
  },
  {
   "cell_type": "code",
   "execution_count": 202,
   "metadata": {},
   "outputs": [
    {
     "name": "stdout",
     "output_type": "stream",
     "text": [
      "[21 16 16 ..., 21 16 21]\n"
     ]
    }
   ],
   "source": [
    "print(pred)"
   ]
  },
  {
   "cell_type": "code",
   "execution_count": 203,
   "metadata": {},
   "outputs": [],
   "source": [
    "from sklearn.metrics import f1_score"
   ]
  },
  {
   "cell_type": "code",
   "execution_count": 206,
   "metadata": {},
   "outputs": [
    {
     "ename": "ValueError",
     "evalue": "Target is multiclass but average='binary'. Please choose another average setting.",
     "output_type": "error",
     "traceback": [
      "\u001b[0;31m---------------------------------------------------------------------------\u001b[0m",
      "\u001b[0;31mValueError\u001b[0m                                Traceback (most recent call last)",
      "\u001b[0;32m<ipython-input-206-7c3cd1db5838>\u001b[0m in \u001b[0;36m<module>\u001b[0;34m()\u001b[0m\n\u001b[0;32m----> 1\u001b[0;31m \u001b[0mf1_score\u001b[0m\u001b[0;34m(\u001b[0m\u001b[0my_test\u001b[0m\u001b[0;34m,\u001b[0m \u001b[0mpred\u001b[0m\u001b[0;34m)\u001b[0m\u001b[0;34m\u001b[0m\u001b[0m\n\u001b[0m",
      "\u001b[0;32m/anaconda2/lib/python2.7/site-packages/sklearn/metrics/classification.pyc\u001b[0m in \u001b[0;36mf1_score\u001b[0;34m(y_true, y_pred, labels, pos_label, average, sample_weight)\u001b[0m\n\u001b[1;32m    712\u001b[0m     return fbeta_score(y_true, y_pred, 1, labels=labels,\n\u001b[1;32m    713\u001b[0m                        \u001b[0mpos_label\u001b[0m\u001b[0;34m=\u001b[0m\u001b[0mpos_label\u001b[0m\u001b[0;34m,\u001b[0m \u001b[0maverage\u001b[0m\u001b[0;34m=\u001b[0m\u001b[0maverage\u001b[0m\u001b[0;34m,\u001b[0m\u001b[0;34m\u001b[0m\u001b[0m\n\u001b[0;32m--> 714\u001b[0;31m                        sample_weight=sample_weight)\n\u001b[0m\u001b[1;32m    715\u001b[0m \u001b[0;34m\u001b[0m\u001b[0m\n\u001b[1;32m    716\u001b[0m \u001b[0;34m\u001b[0m\u001b[0m\n",
      "\u001b[0;32m/anaconda2/lib/python2.7/site-packages/sklearn/metrics/classification.pyc\u001b[0m in \u001b[0;36mfbeta_score\u001b[0;34m(y_true, y_pred, beta, labels, pos_label, average, sample_weight)\u001b[0m\n\u001b[1;32m    826\u001b[0m                                                  \u001b[0maverage\u001b[0m\u001b[0;34m=\u001b[0m\u001b[0maverage\u001b[0m\u001b[0;34m,\u001b[0m\u001b[0;34m\u001b[0m\u001b[0m\n\u001b[1;32m    827\u001b[0m                                                  \u001b[0mwarn_for\u001b[0m\u001b[0;34m=\u001b[0m\u001b[0;34m(\u001b[0m\u001b[0;34m'f-score'\u001b[0m\u001b[0;34m,\u001b[0m\u001b[0;34m)\u001b[0m\u001b[0;34m,\u001b[0m\u001b[0;34m\u001b[0m\u001b[0m\n\u001b[0;32m--> 828\u001b[0;31m                                                  sample_weight=sample_weight)\n\u001b[0m\u001b[1;32m    829\u001b[0m     \u001b[0;32mreturn\u001b[0m \u001b[0mf\u001b[0m\u001b[0;34m\u001b[0m\u001b[0m\n\u001b[1;32m    830\u001b[0m \u001b[0;34m\u001b[0m\u001b[0m\n",
      "\u001b[0;32m/anaconda2/lib/python2.7/site-packages/sklearn/metrics/classification.pyc\u001b[0m in \u001b[0;36mprecision_recall_fscore_support\u001b[0;34m(y_true, y_pred, beta, labels, pos_label, average, warn_for, sample_weight)\u001b[0m\n\u001b[1;32m   1038\u001b[0m         \u001b[0;32melse\u001b[0m\u001b[0;34m:\u001b[0m\u001b[0;34m\u001b[0m\u001b[0m\n\u001b[1;32m   1039\u001b[0m             raise ValueError(\"Target is %s but average='binary'. Please \"\n\u001b[0;32m-> 1040\u001b[0;31m                              \"choose another average setting.\" % y_type)\n\u001b[0m\u001b[1;32m   1041\u001b[0m     \u001b[0;32melif\u001b[0m \u001b[0mpos_label\u001b[0m \u001b[0;32mnot\u001b[0m \u001b[0;32min\u001b[0m \u001b[0;34m(\u001b[0m\u001b[0mNone\u001b[0m\u001b[0;34m,\u001b[0m \u001b[0;36m1\u001b[0m\u001b[0;34m)\u001b[0m\u001b[0;34m:\u001b[0m\u001b[0;34m\u001b[0m\u001b[0m\n\u001b[1;32m   1042\u001b[0m         warnings.warn(\"Note that pos_label (set to %r) is ignored when \"\n",
      "\u001b[0;31mValueError\u001b[0m: Target is multiclass but average='binary'. Please choose another average setting."
     ]
    }
   ],
   "source": [
    "f1_score(y_test, pred, average='macro') "
   ]
  },
  {
   "cell_type": "code",
   "execution_count": null,
   "metadata": {},
   "outputs": [],
   "source": []
  }
 ],
 "metadata": {
  "kernelspec": {
   "display_name": "Python 2",
   "language": "python",
   "name": "python2"
  },
  "language_info": {
   "codemirror_mode": {
    "name": "ipython",
    "version": 2
   },
   "file_extension": ".py",
   "mimetype": "text/x-python",
   "name": "python",
   "nbconvert_exporter": "python",
   "pygments_lexer": "ipython2",
   "version": "2.7.14"
  }
 },
 "nbformat": 4,
 "nbformat_minor": 2
}
