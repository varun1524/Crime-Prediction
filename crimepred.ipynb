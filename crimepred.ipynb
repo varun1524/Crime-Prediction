{
 "cells": [
  {
   "cell_type": "code",
   "execution_count": 7,
   "metadata": {},
   "outputs": [],
   "source": [
    "import pandas as pd\n",
    "import numpy as np\n",
    "from sodapy import Socrata\n",
    "import collections;\n",
    "import re;"
   ]
  },
  {
   "cell_type": "code",
   "execution_count": 8,
   "metadata": {},
   "outputs": [
    {
     "name": "stderr",
     "output_type": "stream",
     "text": [
      "WARNING:root:Requests made without an app_token will be subject to strict throttling limits.\n"
     ]
    },
    {
     "ename": "HTTPError",
     "evalue": "503 Server Error: Service Temporarily Unavailable",
     "output_type": "error",
     "traceback": [
      "\u001b[0;31m---------------------------------------------------------------------------\u001b[0m",
      "\u001b[0;31mHTTPError\u001b[0m                                 Traceback (most recent call last)",
      "\u001b[0;32m<ipython-input-8-4f7028190143>\u001b[0m in \u001b[0;36m<module>\u001b[0;34m()\u001b[0m\n\u001b[1;32m      1\u001b[0m \u001b[0mclient\u001b[0m \u001b[0;34m=\u001b[0m \u001b[0mSocrata\u001b[0m\u001b[0;34m(\u001b[0m\u001b[0;34m\"data.sfgov.org\"\u001b[0m\u001b[0;34m,\u001b[0m \u001b[0mNone\u001b[0m\u001b[0;34m)\u001b[0m\u001b[0;34m\u001b[0m\u001b[0m\n\u001b[1;32m      2\u001b[0m \u001b[0;31m# results = client.get(\"cuks-n6tp\", limit = 2191368)\u001b[0m\u001b[0;34m\u001b[0m\u001b[0;34m\u001b[0m\u001b[0m\n\u001b[0;32m----> 3\u001b[0;31m \u001b[0mdata\u001b[0m \u001b[0;34m=\u001b[0m \u001b[0mclient\u001b[0m\u001b[0;34m.\u001b[0m\u001b[0mget\u001b[0m\u001b[0;34m(\u001b[0m\u001b[0;34m\"cuks-n6tp\"\u001b[0m\u001b[0;34m,\u001b[0m \u001b[0mlimit\u001b[0m \u001b[0;34m=\u001b[0m \u001b[0;36m3000000\u001b[0m\u001b[0;34m)\u001b[0m\u001b[0;34m\u001b[0m\u001b[0m\n\u001b[0m",
      "\u001b[0;32m/usr/local/lib/python2.7/dist-packages/sodapy/__init__.pyc\u001b[0m in \u001b[0;36mget\u001b[0;34m(self, dataset_identifier, content_type, **kwargs)\u001b[0m\n\u001b[1;32m    250\u001b[0m \u001b[0;34m\u001b[0m\u001b[0m\n\u001b[1;32m    251\u001b[0m         response = self._perform_request(\"get\", resource, headers=headers,\n\u001b[0;32m--> 252\u001b[0;31m                                          params=params)\n\u001b[0m\u001b[1;32m    253\u001b[0m         \u001b[0;32mreturn\u001b[0m \u001b[0mresponse\u001b[0m\u001b[0;34m\u001b[0m\u001b[0m\n\u001b[1;32m    254\u001b[0m \u001b[0;34m\u001b[0m\u001b[0m\n",
      "\u001b[0;32m/usr/local/lib/python2.7/dist-packages/sodapy/__init__.pyc\u001b[0m in \u001b[0;36m_perform_request\u001b[0;34m(self, request_type, resource, **kwargs)\u001b[0m\n\u001b[1;32m    365\u001b[0m         \u001b[0;31m# handle errors\u001b[0m\u001b[0;34m\u001b[0m\u001b[0;34m\u001b[0m\u001b[0m\n\u001b[1;32m    366\u001b[0m         \u001b[0;32mif\u001b[0m \u001b[0mresponse\u001b[0m\u001b[0;34m.\u001b[0m\u001b[0mstatus_code\u001b[0m \u001b[0;32mnot\u001b[0m \u001b[0;32min\u001b[0m \u001b[0;34m(\u001b[0m\u001b[0;36m200\u001b[0m\u001b[0;34m,\u001b[0m \u001b[0;36m202\u001b[0m\u001b[0;34m)\u001b[0m\u001b[0;34m:\u001b[0m\u001b[0;34m\u001b[0m\u001b[0m\n\u001b[0;32m--> 367\u001b[0;31m             \u001b[0m_raise_for_status\u001b[0m\u001b[0;34m(\u001b[0m\u001b[0mresponse\u001b[0m\u001b[0;34m)\u001b[0m\u001b[0;34m\u001b[0m\u001b[0m\n\u001b[0m\u001b[1;32m    368\u001b[0m \u001b[0;34m\u001b[0m\u001b[0m\n\u001b[1;32m    369\u001b[0m         \u001b[0;31m# when responses have no content body (ie. delete, set_permission),\u001b[0m\u001b[0;34m\u001b[0m\u001b[0;34m\u001b[0m\u001b[0m\n",
      "\u001b[0;32m/usr/local/lib/python2.7/dist-packages/sodapy/__init__.pyc\u001b[0m in \u001b[0;36m_raise_for_status\u001b[0;34m(response)\u001b[0m\n\u001b[1;32m    419\u001b[0m         \u001b[0;32mif\u001b[0m \u001b[0mmore_info\u001b[0m \u001b[0;32mand\u001b[0m \u001b[0mmore_info\u001b[0m\u001b[0;34m.\u001b[0m\u001b[0mlower\u001b[0m\u001b[0;34m(\u001b[0m\u001b[0;34m)\u001b[0m \u001b[0;34m!=\u001b[0m \u001b[0mresponse\u001b[0m\u001b[0;34m.\u001b[0m\u001b[0mreason\u001b[0m\u001b[0;34m.\u001b[0m\u001b[0mlower\u001b[0m\u001b[0;34m(\u001b[0m\u001b[0;34m)\u001b[0m\u001b[0;34m:\u001b[0m\u001b[0;34m\u001b[0m\u001b[0m\n\u001b[1;32m    420\u001b[0m             \u001b[0mhttp_error_msg\u001b[0m \u001b[0;34m+=\u001b[0m \u001b[0;34m\".\\n\\t{0}\"\u001b[0m\u001b[0;34m.\u001b[0m\u001b[0mformat\u001b[0m\u001b[0;34m(\u001b[0m\u001b[0mmore_info\u001b[0m\u001b[0;34m)\u001b[0m\u001b[0;34m\u001b[0m\u001b[0m\n\u001b[0;32m--> 421\u001b[0;31m         \u001b[0;32mraise\u001b[0m \u001b[0mrequests\u001b[0m\u001b[0;34m.\u001b[0m\u001b[0mexceptions\u001b[0m\u001b[0;34m.\u001b[0m\u001b[0mHTTPError\u001b[0m\u001b[0;34m(\u001b[0m\u001b[0mhttp_error_msg\u001b[0m\u001b[0;34m,\u001b[0m \u001b[0mresponse\u001b[0m\u001b[0;34m=\u001b[0m\u001b[0mresponse\u001b[0m\u001b[0;34m)\u001b[0m\u001b[0;34m\u001b[0m\u001b[0m\n\u001b[0m\u001b[1;32m    422\u001b[0m \u001b[0;34m\u001b[0m\u001b[0m\n\u001b[1;32m    423\u001b[0m \u001b[0;34m\u001b[0m\u001b[0m\n",
      "\u001b[0;31mHTTPError\u001b[0m: 503 Server Error: Service Temporarily Unavailable"
     ]
    }
   ],
   "source": [
    "client = Socrata(\"data.sfgov.org\", None)\n",
    "# results = client.get(\"cuks-n6tp\", limit = 2191368)\n",
    "data = client.get(\"cuks-n6tp\", limit = 3000000)"
   ]
  },
  {
   "cell_type": "code",
   "execution_count": null,
   "metadata": {},
   "outputs": [],
   "source": [
    "data_df = pd.DataFrame.from_records(data)"
   ]
  },
  {
   "cell_type": "code",
   "execution_count": 3,
   "metadata": {},
   "outputs": [
    {
     "ename": "NameError",
     "evalue": "name 'data_df' is not defined",
     "output_type": "error",
     "traceback": [
      "\u001b[0;31m---------------------------------------------------------------------------\u001b[0m",
      "\u001b[0;31mNameError\u001b[0m                                 Traceback (most recent call last)",
      "\u001b[0;32m<ipython-input-3-64c44e420b25>\u001b[0m in \u001b[0;36m<module>\u001b[0;34m()\u001b[0m\n\u001b[0;32m----> 1\u001b[0;31m \u001b[0;32mprint\u001b[0m\u001b[0;34m(\u001b[0m\u001b[0mtype\u001b[0m\u001b[0;34m(\u001b[0m\u001b[0mdata_df\u001b[0m\u001b[0;34m)\u001b[0m\u001b[0;34m)\u001b[0m\u001b[0;34m\u001b[0m\u001b[0m\n\u001b[0m\u001b[1;32m      2\u001b[0m \u001b[0;32mprint\u001b[0m\u001b[0;34m(\u001b[0m\u001b[0mdata_df\u001b[0m\u001b[0;34m.\u001b[0m\u001b[0mshape\u001b[0m\u001b[0;34m)\u001b[0m\u001b[0;34m\u001b[0m\u001b[0m\n",
      "\u001b[0;31mNameError\u001b[0m: name 'data_df' is not defined"
     ]
    }
   ],
   "source": [
    "print(type(data_df))\n",
    "print(data_df.shape)"
   ]
  },
  {
   "cell_type": "code",
   "execution_count": 5,
   "metadata": {},
   "outputs": [
    {
     "name": "stdout",
     "output_type": "stream",
     "text": [
      "                     address       category                     date  \\\n",
      "0      300 Block of MASON ST       BURGLARY  2017-11-23T00:00:00.000   \n",
      "1   700 Block of MOULTRIE ST  LARCENY/THEFT  2017-12-29T00:00:00.000   \n",
      "2  1200 Block of VALENCIA ST        ROBBERY  2017-09-21T00:00:00.000   \n",
      "3    100 Block of ALEMANY BL       WARRANTS  2017-12-10T00:00:00.000   \n",
      "\n",
      "  dayofweek                          descript incidntnum  \\\n",
      "0  Thursday          BURGLARY, UNLAWFUL ENTRY  170953428   \n",
      "1    Friday      GRAND THEFT FROM LOCKED AUTO  186002910   \n",
      "2  Thursday  SHOPLIFTING, FORCE AGAINST AGENT  170772240   \n",
      "3    Sunday   ENROUTE TO OUTSIDE JURISDICTION  170998446   \n",
      "\n",
      "                                            location  pddistrict  \\\n",
      "0  {u'type': u'Point', u'coordinates': [-122.4096...  TENDERLOIN   \n",
      "1  {u'type': u'Point', u'coordinates': [-122.4161...   INGLESIDE   \n",
      "2  {u'type': u'Point', u'coordinates': [-122.4208...     MISSION   \n",
      "3  {u'type': u'Point', u'coordinates': [-122.4092...   INGLESIDE   \n",
      "\n",
      "             pdid      resolution   time                    x  \\\n",
      "0  17095342805073  ARREST, BOOKED  18:40  -122.40966075179537   \n",
      "1  18600291006244            NONE  19:00   -122.4161875263788   \n",
      "2  17077224003401  ARREST, BOOKED  15:19  -122.42080604916876   \n",
      "3  17099844662050  ARREST, BOOKED  11:51   -122.4092152559694   \n",
      "\n",
      "                    y  \n",
      "0   37.78643945247644  \n",
      "1  37.735438795132744  \n",
      "2  37.752884021752855  \n",
      "3   37.73617324989554  \n"
     ]
    }
   ],
   "source": [
    "print(data_df[:4])"
   ]
  },
  {
   "cell_type": "code",
   "execution_count": 6,
   "metadata": {},
   "outputs": [],
   "source": [
    "# data_df.sort_values(by=['date'])"
   ]
  },
  {
   "cell_type": "code",
   "execution_count": 7,
   "metadata": {},
   "outputs": [
    {
     "name": "stdout",
     "output_type": "stream",
     "text": [
      "(2193544, 13)\n"
     ]
    }
   ],
   "source": [
    "print(data_df.shape)"
   ]
  },
  {
   "cell_type": "code",
   "execution_count": 8,
   "metadata": {},
   "outputs": [
    {
     "name": "stdout",
     "output_type": "stream",
     "text": [
      "address\n",
      "category\n",
      "date\n",
      "dayofweek\n",
      "descript\n",
      "incidntnum\n",
      "location\n",
      "pddistrict\n",
      "pdid\n",
      "resolution\n",
      "time\n",
      "x\n",
      "y\n"
     ]
    }
   ],
   "source": [
    "for col in data_df.columns:\n",
    "    print(col)"
   ]
  },
  {
   "cell_type": "code",
   "execution_count": 9,
   "metadata": {},
   "outputs": [],
   "source": [
    "def convert_date_to_day(dt):\n",
    "   result = re.findall(r'\\d{4}-(\\d{2})-(\\d{2})T00:00:00.000',dt)\n",
    "   return result[0][1]\n",
    "   \n",
    "def convert_date_to_month(dt):\n",
    "   result = re.findall(r'\\d{4}-(\\d{2})-(\\d{2})T00:00:00.000',dt)\n",
    "   return result[0][0]\n",
    "\n",
    "def convert_time_to_hour(tm):\n",
    "   result = re.findall(r'(\\d{2}):\\d{2}',tm)\n",
    "   return result[0]"
   ]
  },
  {
   "cell_type": "code",
   "execution_count": 11,
   "metadata": {},
   "outputs": [
    {
     "name": "stdout",
     "output_type": "stream",
     "text": [
      "Empty DataFrame\n",
      "Columns: [address, category, date, dayofweek, descript, incidntnum, location, pddistrict, pdid, resolution, time, x, y]\n",
      "Index: []\n"
     ]
    }
   ],
   "source": [
    "data_df = data_df.dropna(how='any',axis=0)\n",
    "print(data_df[:0])"
   ]
  },
  {
   "cell_type": "code",
   "execution_count": 12,
   "metadata": {},
   "outputs": [],
   "source": [
    "data_df['day'] = data_df.date.apply(lambda x: convert_date_to_day(x))\n",
    "data_df['month'] = data_df.date.apply(lambda x: convert_date_to_month(x))\n",
    "data_df['hour'] = data_df.time.apply(lambda x: convert_time_to_hour(x))\n",
    "data_df = data_df.sort_values(by=['date','time'])\n"
   ]
  },
  {
   "cell_type": "code",
   "execution_count": 14,
   "metadata": {},
   "outputs": [
    {
     "name": "stdout",
     "output_type": "stream",
     "text": [
      "address\n",
      "category\n",
      "dayofweek\n",
      "descript\n",
      "location\n",
      "pddistrict\n",
      "day\n",
      "month\n",
      "hour\n"
     ]
    }
   ],
   "source": [
    "df = data_df.drop(['incidntnum','pdid','resolution','x','y', 'date', 'time', 'descript'], axis =1)\n",
    "# df = df.drop(df.columns[[0]], axis =1)\n",
    "\n",
    "for col in df.columns:\n",
    "    print(col)"
   ]
  },
  {
   "cell_type": "code",
   "execution_count": 15,
   "metadata": {},
   "outputs": [],
   "source": [
    "# df.sort_values(by=['date'])\n",
    "df['descript'] = df.descript.apply(lambda x: x.lower())\n",
    "df['category'] = df.category.apply(lambda x: x.lower())\n",
    "df['dayofweek'] = df.dayofweek.apply(lambda x: x.lower())\n",
    "df['address'] = df.address.apply(lambda x: x.lower())\n",
    "df['pddistrict'] = df.pddistrict.apply(lambda x: x.lower())"
   ]
  },
  {
   "cell_type": "code",
   "execution_count": 16,
   "metadata": {},
   "outputs": [
    {
     "name": "stdout",
     "output_type": "stream",
     "text": [
      "(2193543, 9)\n"
     ]
    }
   ],
   "source": [
    "print(df.shape)"
   ]
  },
  {
   "cell_type": "code",
   "execution_count": 17,
   "metadata": {},
   "outputs": [],
   "source": [
    "series = df.groupby('pddistrict').apply(list)\n",
    "dictionary = {}\n"
   ]
  },
  {
   "cell_type": "code",
   "execution_count": 19,
   "metadata": {},
   "outputs": [
    {
     "name": "stdout",
     "output_type": "stream",
     "text": [
      "39\n",
      "2193543\n"
     ]
    }
   ],
   "source": [
    "city_target = df.get('category').tolist()\n",
    "unique_target=set(city_target)\n",
    "print(len(unique_target))\n",
    "print(len(city_target))"
   ]
  },
  {
   "cell_type": "code",
   "execution_count": 20,
   "metadata": {},
   "outputs": [],
   "source": [
    "#For city level\n",
    "# df = df.drop(['pddistrict', 'category'], axis =1)"
   ]
  },
  {
   "cell_type": "code",
   "execution_count": 22,
   "metadata": {},
   "outputs": [
    {
     "name": "stdout",
     "output_type": "stream",
     "text": [
      "bayview\n",
      "central\n",
      "ingleside\n",
      "mission\n",
      "northern\n",
      "park\n",
      "richmond\n",
      "southern\n",
      "taraval\n",
      "tenderloin\n"
     ]
    }
   ],
   "source": [
    "for s in series.keys():\n",
    "    print(str(s))\n",
    "    mask = df['pddistrict'] == str(s)\n",
    "#     print(df[mask])\n",
    "    dictionary[str(s)] = df[mask]"
   ]
  },
  {
   "cell_type": "code",
   "execution_count": 23,
   "metadata": {},
   "outputs": [
    {
     "name": "stdout",
     "output_type": "stream",
     "text": [
      "<class 'pandas.core.frame.DataFrame'>\n",
      "['central', 'northern', 'ingleside', 'park', 'mission', 'tenderloin', 'richmond', 'taraval', 'bayview', 'southern']\n"
     ]
    }
   ],
   "source": [
    "print(type(dictionary['central']))\n",
    "print(dictionary.keys())"
   ]
  },
  {
   "cell_type": "code",
   "execution_count": 24,
   "metadata": {},
   "outputs": [],
   "source": [
    "def generateTrainData_Target(district):\n",
    "    target = (dictionary.get(district))['category']\n",
    "#     tempdf = (dictionary.get(district)).drop(['pddistrict', 'category'], axis =1).sort_values(by=['date'])\n",
    "    tempdf = (dictionary.get(district)).drop(['pddistrict', 'category'], axis =1)\n",
    "    return tempdf, target\n",
    "#     dictionary"
   ]
  },
  {
   "cell_type": "code",
   "execution_count": 25,
   "metadata": {},
   "outputs": [
    {
     "name": "stdout",
     "output_type": "stream",
     "text": [
      "219169\n",
      "(219169, 7)\n"
     ]
    }
   ],
   "source": [
    "district_df, district_target = generateTrainData_Target('bayview')\n",
    "print(len(district_target))\n",
    "print(district_df.shape)"
   ]
  },
  {
   "cell_type": "code",
   "execution_count": 27,
   "metadata": {
    "scrolled": true
   },
   "outputs": [
    {
     "name": "stdout",
     "output_type": "stream",
     "text": [
      "                            address  dayofweek  \\\n",
      "40972             3rd st / cargo wy  wednesday   \n",
      "41925        100 block of dakota st  wednesday   \n",
      "203268   2000 block of mc kinnon av  wednesday   \n",
      "245057      1500 block of hudson av  wednesday   \n",
      "324590      500 block of holyoke st  wednesday   \n",
      "386011        0 block of osceola ln  wednesday   \n",
      "415338        0 block of osceola ln  wednesday   \n",
      "468458      1300 block of silver av  wednesday   \n",
      "549495   100 block of bridgeview dr  wednesday   \n",
      "1012818  200 block of bridgeview dr  wednesday   \n",
      "\n",
      "                                    descript  \\\n",
      "40972                          lost property   \n",
      "41925               checks, forgery (felony)   \n",
      "203268                         lost property   \n",
      "245057                    child abuse sexual   \n",
      "324590                obscene phone calls(s)   \n",
      "386011   forgery, drivers license or id-card   \n",
      "415338         fraudulent credit application   \n",
      "468458       checks, make or pass fictitious   \n",
      "549495                child abuse (physical)   \n",
      "1012818                       sexual battery   \n",
      "\n",
      "                                                  location day month hour  \n",
      "40972    {u'type': u'Point', u'coordinates': [-122.3871...  01    01   00  \n",
      "41925    {u'type': u'Point', u'coordinates': [-122.3956...  01    01   00  \n",
      "203268   {u'type': u'Point', u'coordinates': [-122.3976...  01    01   00  \n",
      "245057   {u'type': u'Point', u'coordinates': [-122.3873...  01    01   00  \n",
      "324590   {u'type': u'Point', u'coordinates': [-122.4077...  01    01   00  \n",
      "386011   {u'type': u'Point', u'coordinates': [-122.3830...  01    01   00  \n",
      "415338   {u'type': u'Point', u'coordinates': [-122.3830...  01    01   00  \n",
      "468458   {u'type': u'Point', u'coordinates': [-122.4092...  01    01   00  \n",
      "549495   {u'type': u'Point', u'coordinates': [-122.3945...  01    01   00  \n",
      "1012818  {u'type': u'Point', u'coordinates': [-122.3975...  01    01   00  \n"
     ]
    }
   ],
   "source": [
    "print(district_df[:10])"
   ]
  },
  {
   "cell_type": "code",
   "execution_count": null,
   "metadata": {},
   "outputs": [],
   "source": []
  }
 ],
 "metadata": {
  "kernelspec": {
   "display_name": "Python 2",
   "language": "python",
   "name": "python2"
  },
  "language_info": {
   "codemirror_mode": {
    "name": "ipython",
    "version": 2
   },
   "file_extension": ".py",
   "mimetype": "text/x-python",
   "name": "python",
   "nbconvert_exporter": "python",
   "pygments_lexer": "ipython2",
   "version": "2.7.12"
  }
 },
 "nbformat": 4,
 "nbformat_minor": 2
}
