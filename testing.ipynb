{
 "cells": [
  {
   "cell_type": "code",
   "execution_count": 1,
   "metadata": {},
   "outputs": [],
   "source": [
    "import pandas as pd\n",
    "import numpy as np\n",
    "from sodapy import Socrata\n",
    "import collections;\n",
    "import re;"
   ]
  },
  {
   "cell_type": "code",
   "execution_count": null,
   "metadata": {},
   "outputs": [
    {
     "name": "stderr",
     "output_type": "stream",
     "text": [
      "WARNING:root:Requests made without an app_token will be subject to strict throttling limits.\n"
     ]
    }
   ],
   "source": [
    "client = Socrata(\"data.sfgov.org\", None)\n",
    "# results = client.get(\"cuks-n6tp\", limit = 2191368)\n",
    "data = client.get(\"cuks-n6tp\", limit = 3000000)"
   ]
  },
  {
   "cell_type": "code",
   "execution_count": null,
   "metadata": {},
   "outputs": [],
   "source": [
    "data_df = pd.DataFrame.from_records(data)"
   ]
  },
  {
   "cell_type": "code",
   "execution_count": null,
   "metadata": {},
   "outputs": [],
   "source": [
    "print(type(data_df))\n",
    "print(data_df.shape)"
   ]
  },
  {
   "cell_type": "code",
   "execution_count": null,
   "metadata": {},
   "outputs": [],
   "source": [
    "print(data_df[:4])"
   ]
  },
  {
   "cell_type": "code",
   "execution_count": 6,
   "metadata": {},
   "outputs": [],
   "source": [
    "data_df.sort_values(by=['date'])\n",
    "data_df."
   ]
  },
  {
   "cell_type": "code",
   "execution_count": 7,
   "metadata": {},
   "outputs": [
    {
     "name": "stdout",
     "output_type": "stream",
     "text": [
      "(2193544, 13)\n"
     ]
    }
   ],
   "source": [
    "print(data_df.shape)"
   ]
  },
  {
   "cell_type": "code",
   "execution_count": 8,
   "metadata": {},
   "outputs": [
    {
     "name": "stdout",
     "output_type": "stream",
     "text": [
      "address\n",
      "category\n",
      "date\n",
      "dayofweek\n",
      "descript\n",
      "incidntnum\n",
      "location\n",
      "pddistrict\n",
      "pdid\n",
      "resolution\n",
      "time\n",
      "x\n",
      "y\n"
     ]
    }
   ],
   "source": [
    "for col in data_df.columns:\n",
    "    print(col)"
   ]
  },
  {
   "cell_type": "code",
   "execution_count": 9,
   "metadata": {},
   "outputs": [],
   "source": [
    "def convert_date_to_day(dt):\n",
    "   result = re.findall(r'\\d{4}-(\\d{2})-(\\d{2})T00:00:00.000',dt)\n",
    "   return result[0][1]\n",
    "   \n",
    "def convert_date_to_month(dt):\n",
    "   result = re.findall(r'\\d{4}-(\\d{2})-(\\d{2})T00:00:00.000',dt)\n",
    "   return result[0][0]\n",
    "\n",
    "def convert_time_to_hour(tm):\n",
    "   result = re.findall(r'(\\d{2}):\\d{2}',tm)\n",
    "   return result[0]"
   ]
  },
  {
   "cell_type": "code",
   "execution_count": 11,
   "metadata": {},
   "outputs": [
    {
     "name": "stdout",
     "output_type": "stream",
     "text": [
      "Empty DataFrame\n",
      "Columns: [address, category, date, dayofweek, descript, incidntnum, location, pddistrict, pdid, resolution, time, x, y]\n",
      "Index: []\n"
     ]
    }
   ],
   "source": [
    "data_df = data_df.dropna(how='any',axis=0)\n",
    "print(data_df[:0])"
   ]
  },
  {
   "cell_type": "code",
   "execution_count": 12,
   "metadata": {},
   "outputs": [],
   "source": [
    "data_df['day'] = data_df.date.apply(lambda x: convert_date_to_day(x))\n",
    "data_df['month'] = data_df.date.apply(lambda x: convert_date_to_month(x))\n",
    "data_df['hour'] = data_df.time.apply(lambda x: convert_time_to_hour(x))\n",
    "data_df = data_df.sort_values(by=['date','time'])\n"
   ]
  },
  {
   "cell_type": "code",
   "execution_count": 14,
   "metadata": {},
   "outputs": [
    {
     "name": "stdout",
     "output_type": "stream",
     "text": [
      "address\n",
      "category\n",
      "dayofweek\n",
      "descript\n",
      "location\n",
      "pddistrict\n",
      "day\n",
      "month\n",
      "hour\n"
     ]
    }
   ],
   "source": [
    "df = data_df.drop(['incidntnum','pdid','resolution','x','y', 'date', 'time', 'descript'], axis =1)\n",
    "# df = df.drop(df.columns[[0]], axis =1)\n",
    "\n",
    "for col in df.columns:\n",
    "    print(col)"
   ]
  },
  {
   "cell_type": "code",
   "execution_count": 15,
   "metadata": {},
   "outputs": [],
   "source": [
    "# df.sort_values(by=['date'])\n",
    "df['descript'] = df.descript.apply(lambda x: x.lower())\n",
    "df['category'] = df.category.apply(lambda x: x.lower())\n",
    "df['dayofweek'] = df.dayofweek.apply(lambda x: x.lower())\n",
    "df['address'] = df.address.apply(lambda x: x.lower())\n",
    "df['pddistrict'] = df.pddistrict.apply(lambda x: x.lower())"
   ]
  },
  {
   "cell_type": "code",
   "execution_count": 16,
   "metadata": {},
   "outputs": [
    {
     "name": "stdout",
     "output_type": "stream",
     "text": [
      "(2193543, 9)\n"
     ]
    }
   ],
   "source": [
    "print(df.shape)"
   ]
  },
  {
   "cell_type": "code",
   "execution_count": 17,
   "metadata": {},
   "outputs": [],
   "source": [
    "series = df.groupby('pddistrict').apply(list)\n",
    "dictionary = {}\n"
   ]
  },
  {
   "cell_type": "code",
   "execution_count": 19,
   "metadata": {},
   "outputs": [
    {
     "name": "stdout",
     "output_type": "stream",
     "text": [
      "39\n",
      "2193543\n"
     ]
    }
   ],
   "source": [
    "city_target = df.get('category').tolist()\n",
    "unique_target=set(city_target)\n",
    "print(len(unique_target))\n",
    "print(len(city_target))"
   ]
  },
  {
   "cell_type": "code",
   "execution_count": 20,
   "metadata": {},
   "outputs": [],
   "source": [
    "#For city level\n",
    "# df = df.drop(['pddistrict', 'category'], axis =1)"
   ]
  },
  {
   "cell_type": "code",
   "execution_count": 22,
   "metadata": {},
   "outputs": [
    {
     "name": "stdout",
     "output_type": "stream",
     "text": [
      "bayview\n",
      "central\n",
      "ingleside\n",
      "mission\n",
      "northern\n",
      "park\n",
      "richmond\n",
      "southern\n",
      "taraval\n",
      "tenderloin\n"
     ]
    }
   ],
   "source": [
    "for s in series.keys():\n",
    "    print(str(s))\n",
    "    mask = df['pddistrict'] == str(s)\n",
    "#     print(df[mask])\n",
    "    dictionary[str(s)] = df[mask]"
   ]
  },
  {
   "cell_type": "code",
   "execution_count": 23,
   "metadata": {},
   "outputs": [
    {
     "name": "stdout",
     "output_type": "stream",
     "text": [
      "<class 'pandas.core.frame.DataFrame'>\n",
      "['central', 'northern', 'ingleside', 'park', 'mission', 'tenderloin', 'richmond', 'taraval', 'bayview', 'southern']\n"
     ]
    }
   ],
   "source": [
    "print(type(dictionary['central']))\n",
    "print(dictionary.keys())"
   ]
  },
  {
   "cell_type": "code",
   "execution_count": 24,
   "metadata": {},
   "outputs": [],
   "source": [
    "def generateTrainData_Target(district):\n",
    "    target = (dictionary.get(district))['category']\n",
    "#     tempdf = (dictionary.get(district)).drop(['pddistrict', 'category'], axis =1).sort_values(by=['date'])\n",
    "    tempdf = (dictionary.get(district)).drop(['pddistrict', 'category'], axis =1)\n",
    "    return tempdf, target\n",
    "#     dictionary"
   ]
  },
  {
   "cell_type": "code",
   "execution_count": 25,
   "metadata": {},
   "outputs": [
    {
     "name": "stdout",
     "output_type": "stream",
     "text": [
      "219169\n",
      "(219169, 7)\n"
     ]
    }
   ],
   "source": [
    "district_df, district_target = generateTrainData_Target('bayview')\n",
    "print(len(district_target))\n",
    "print(district_df.shape)"
   ]
  },
  {
   "cell_type": "code",
   "execution_count": 27,
   "metadata": {
    "scrolled": true
   },
   "outputs": [
    {
     "name": "stdout",
     "output_type": "stream",
     "text": [
      "                            address  dayofweek  \\\n",
      "40972             3rd st / cargo wy  wednesday   \n",
      "41925        100 block of dakota st  wednesday   \n",
      "203268   2000 block of mc kinnon av  wednesday   \n",
      "245057      1500 block of hudson av  wednesday   \n",
      "324590      500 block of holyoke st  wednesday   \n",
      "386011        0 block of osceola ln  wednesday   \n",
      "415338        0 block of osceola ln  wednesday   \n",
      "468458      1300 block of silver av  wednesday   \n",
      "549495   100 block of bridgeview dr  wednesday   \n",
      "1012818  200 block of bridgeview dr  wednesday   \n",
      "\n",
      "                                    descript  \\\n",
      "40972                          lost property   \n",
      "41925               checks, forgery (felony)   \n",
      "203268                         lost property   \n",
      "245057                    child abuse sexual   \n",
      "324590                obscene phone calls(s)   \n",
      "386011   forgery, drivers license or id-card   \n",
      "415338         fraudulent credit application   \n",
      "468458       checks, make or pass fictitious   \n",
      "549495                child abuse (physical)   \n",
      "1012818                       sexual battery   \n",
      "\n",
      "                                                  location day month hour  \n",
      "40972    {u'type': u'Point', u'coordinates': [-122.3871...  01    01   00  \n",
      "41925    {u'type': u'Point', u'coordinates': [-122.3956...  01    01   00  \n",
      "203268   {u'type': u'Point', u'coordinates': [-122.3976...  01    01   00  \n",
      "245057   {u'type': u'Point', u'coordinates': [-122.3873...  01    01   00  \n",
      "324590   {u'type': u'Point', u'coordinates': [-122.4077...  01    01   00  \n",
      "386011   {u'type': u'Point', u'coordinates': [-122.3830...  01    01   00  \n",
      "415338   {u'type': u'Point', u'coordinates': [-122.3830...  01    01   00  \n",
      "468458   {u'type': u'Point', u'coordinates': [-122.4092...  01    01   00  \n",
      "549495   {u'type': u'Point', u'coordinates': [-122.3945...  01    01   00  \n",
      "1012818  {u'type': u'Point', u'coordinates': [-122.3975...  01    01   00  \n"
     ]
    }
   ],
   "source": [
    "print(district_df[:10])"
   ]
  },
  {
   "cell_type": "code",
   "execution_count": null,
   "metadata": {},
   "outputs": [],
   "source": []
  }
 ],
 "metadata": {
  "kernelspec": {
   "display_name": "Python 2",
   "language": "python",
   "name": "python2"
  },
  "language_info": {
   "codemirror_mode": {
    "name": "ipython",
    "version": 2
   },
   "file_extension": ".py",
   "mimetype": "text/x-python",
   "name": "python",
   "nbconvert_exporter": "python",
   "pygments_lexer": "ipython2",
   "version": "2.7.12"
  }
 },
 "nbformat": 4,
 "nbformat_minor": 2
}
