{
 "cells": [
  {
   "cell_type": "code",
   "execution_count": 49,
   "metadata": {},
   "outputs": [],
   "source": [
    "import pandas as pd\n",
    "import numpy as np\n",
    "from sodapy import Socrata"
   ]
  },
  {
   "cell_type": "code",
   "execution_count": 51,
   "metadata": {},
   "outputs": [
    {
     "name": "stderr",
     "output_type": "stream",
     "text": [
      "WARNING:root:Requests made without an app_token will be subject to strict throttling limits.\n"
     ]
    }
   ],
   "source": [
    "client = Socrata(\"data.sfgov.org\", None)\n",
    "# results = client.get(\"cuks-n6tp\", limit = 2191368)\n",
    "results = client.get(\"cuks-n6tp\", limit = 3000000)\n",
    "results_df = pd.DataFrame.from_records(results)"
   ]
  },
  {
   "cell_type": "code",
   "execution_count": 57,
   "metadata": {},
   "outputs": [
    {
     "name": "stdout",
     "output_type": "stream",
     "text": [
      "<type 'list'>\n",
      "{u'category': u'OTHER OFFENSES', u'dayofweek': u'Saturday', u'incidntnum': u'130648192', u'time': u'19:17', u'descript': u'VIOLATION OF RESTRAINING ORDER', u'pddistrict': u'MISSION', u'y': u'37.7651107322703', u'location': {u'type': u'Point', u'coordinates': [-122.432198022433, 37.76511073227]}, u'address': u'2200 Block of MARKET ST', u'date': u'2013-08-03T00:00:00.000', u'x': u'-122.432198022433', u'resolution': u'NONE', u'pdid': u'13064819215161'}\n"
     ]
    }
   ],
   "source": [
    "print(type(results))\n",
    "print(results[0])\n",
    "# print(results)"
   ]
  },
  {
   "cell_type": "code",
   "execution_count": 58,
   "metadata": {},
   "outputs": [
    {
     "name": "stdout",
     "output_type": "stream",
     "text": [
      "<class 'pandas.core.frame.DataFrame'>\n",
      "(2191390, 13)\n"
     ]
    }
   ],
   "source": [
    "print(type(results_df))\n",
    "print(results_df.shape)"
   ]
  },
  {
   "cell_type": "code",
   "execution_count": null,
   "metadata": {},
   "outputs": [],
   "source": []
  }
 ],
 "metadata": {
  "kernelspec": {
   "display_name": "Python 2",
   "language": "python",
   "name": "python2"
  },
  "language_info": {
   "codemirror_mode": {
    "name": "ipython",
    "version": 2
   },
   "file_extension": ".py",
   "mimetype": "text/x-python",
   "name": "python",
   "nbconvert_exporter": "python",
   "pygments_lexer": "ipython2",
   "version": "2.7.12"
  }
 },
 "nbformat": 4,
 "nbformat_minor": 2
}
